{
 "cells": [
  {
   "cell_type": "markdown",
   "id": "eff83049",
   "metadata": {},
   "source": [
    "# Class and Objects"
   ]
  },
  {
   "cell_type": "markdown",
   "id": "50e98335",
   "metadata": {},
   "source": [
    "1. Python is an Object Oriented Programming Language\n",
    "2. Almost everything in Python is an object, with its properties and methods\n",
    "3. A Class is like object Constructor or a 'Blueprint' for creating objects."
   ]
  },
  {
   "cell_type": "markdown",
   "id": "04fd3441",
   "metadata": {},
   "source": [
    "## Create Class:\n",
    "    1. To Create class using keyword class\n",
    "    2. create class name MyClass, with property named as my_num"
   ]
  },
  {
   "cell_type": "code",
   "execution_count": 6,
   "id": "02ed3095",
   "metadata": {},
   "outputs": [],
   "source": [
    "class MyClass:\n",
    "    my_num = 10"
   ]
  },
  {
   "cell_type": "markdown",
   "id": "ce54c54a",
   "metadata": {},
   "source": [
    "## Create Object:\n",
    "    1. Create object named as c1, and print value of my_num"
   ]
  },
  {
   "cell_type": "code",
   "execution_count": 2,
   "id": "5f18529e",
   "metadata": {},
   "outputs": [
    {
     "name": "stdout",
     "output_type": "stream",
     "text": [
      "10\n"
     ]
    }
   ],
   "source": [
    "c1 = MyClass()\n",
    "print(c1.my_num)"
   ]
  },
  {
   "cell_type": "markdown",
   "id": "5d16462a",
   "metadata": {},
   "source": [
    "## The __init__() Function"
   ]
  },
  {
   "cell_type": "raw",
   "id": "c4486ab7",
   "metadata": {},
   "source": [
    "1. To understand the meaning of classes we have to understand the built in __init__() function\n",
    "2. All classes have a function called __init__(), which is always executed when the class is being executed.\n",
    "3. Use the __init_() function to assign values to object properties or other operations that are necessory to do when the object is being created."
   ]
  },
  {
   "cell_type": "code",
   "execution_count": 3,
   "id": "f655ef7e",
   "metadata": {},
   "outputs": [
    {
     "name": "stdout",
     "output_type": "stream",
     "text": [
      "Shyam\n",
      "Ambilkar\n"
     ]
    }
   ],
   "source": [
    "class Person:\n",
    "    def __init__(self,first_name, last_name):\n",
    "        self.first_name = first_name\n",
    "        self.last_name = last_name\n",
    "        \n",
    "p1 = Person(\"Shyam\",\"Ambilkar\")\n",
    "\n",
    "# print(p1.first_name,p1.last_name)\n",
    "print(p1.first_name)\n",
    "print(p1.last_name)"
   ]
  },
  {
   "cell_type": "code",
   "execution_count": 1,
   "id": "c04c4d82",
   "metadata": {},
   "outputs": [
    {
     "name": "stdout",
     "output_type": "stream",
     "text": [
      "Shyam\n",
      "Ambilkar\n",
      "Vishal\n",
      "Shitole\n"
     ]
    }
   ],
   "source": [
    "class Person:\n",
    "    def __init__(self,first_name, last_name):\n",
    "        self.first_name = first_name\n",
    "        self.last_name = last_name\n",
    "        \n",
    "p1 = Person(\"Shyam\",\"Ambilkar\")\n",
    "p2 = Person(\"Vishal\",\"Shitole\")\n",
    "\n",
    "\n",
    "print(p1.first_name)\n",
    "print(p1.last_name)\n",
    "\n",
    "print(p2.first_name)\n",
    "print(p2.last_name)"
   ]
  },
  {
   "cell_type": "markdown",
   "id": "49295c71",
   "metadata": {},
   "source": [
    "**Note : The __init__() function is called automatically every time the class is being used to create new object**"
   ]
  },
  {
   "cell_type": "markdown",
   "id": "6a98c59f",
   "metadata": {},
   "source": [
    "## The __str__() Function"
   ]
  },
  {
   "cell_type": "markdown",
   "id": "e50c6383",
   "metadata": {},
   "source": [
    "1. The __str__() function controls what should be returnd when the class object is represented as a string\n",
    "2. If the __str__() function is not set, the string representation of the object is returned."
   ]
  },
  {
   "cell_type": "markdown",
   "id": "1c46bd85",
   "metadata": {},
   "source": [
    "#### Example - The string representation of an object WITHOUT the __str__() function"
   ]
  },
  {
   "cell_type": "code",
   "execution_count": 3,
   "id": "0c2bd0b7",
   "metadata": {},
   "outputs": [
    {
     "name": "stdout",
     "output_type": "stream",
     "text": [
      "<__main__.Person object at 0x000001F69B9CF9A0>\n"
     ]
    }
   ],
   "source": [
    "class Person:\n",
    "    def __init__(self, first_name, last_name):\n",
    "        self.fname = first_name\n",
    "        self.lname = last_name\n",
    "        \n",
    "p1 = Person(\"Rohen\",\"Gandhi\")\n",
    "print(p1)"
   ]
  },
  {
   "cell_type": "markdown",
   "id": "22518fcb",
   "metadata": {},
   "source": [
    "#### Example - The string representation of an object WITH the __str__() function"
   ]
  },
  {
   "cell_type": "code",
   "execution_count": 4,
   "id": "f2724975",
   "metadata": {},
   "outputs": [
    {
     "name": "stdout",
     "output_type": "stream",
     "text": [
      "Rohen Gandhi\n"
     ]
    }
   ],
   "source": [
    "class Person:\n",
    "    def __init__(self, first_name, last_name):\n",
    "        self.first_name = first_name\n",
    "        self.last_name = last_name\n",
    "        \n",
    "    def __str__(self):\n",
    "        return f\"{self.first_name} {self.last_name}\"\n",
    "        \n",
    "p1 = Person(\"Rohen\",\"Gandhi\")\n",
    "\n",
    "print(p1)"
   ]
  },
  {
   "cell_type": "code",
   "execution_count": 5,
   "id": "f21f2064",
   "metadata": {},
   "outputs": [
    {
     "name": "stdout",
     "output_type": "stream",
     "text": [
      "Hello All, My name is Vishal Shitole\n"
     ]
    }
   ],
   "source": [
    "class Person:\n",
    "    def __init__(self, fname,lname):\n",
    "        self.fname = fname\n",
    "        self.lname = lname\n",
    "        \n",
    "    def myFunction(abc):\n",
    "        print(\"Hello All, My name is\", abc.fname +\" \"+ abc.lname)\n",
    "        \n",
    "p1 = Person(\"Vishal\",\"Shitole\")\n",
    "\n",
    "p1.myFunction()"
   ]
  },
  {
   "cell_type": "code",
   "execution_count": null,
   "id": "006918be",
   "metadata": {},
   "outputs": [],
   "source": []
  }
 ],
 "metadata": {
  "kernelspec": {
   "display_name": "Python 3 (ipykernel)",
   "language": "python",
   "name": "python3"
  },
  "language_info": {
   "codemirror_mode": {
    "name": "ipython",
    "version": 3
   },
   "file_extension": ".py",
   "mimetype": "text/x-python",
   "name": "python",
   "nbconvert_exporter": "python",
   "pygments_lexer": "ipython3",
   "version": "3.11.7"
  }
 },
 "nbformat": 4,
 "nbformat_minor": 5
}
